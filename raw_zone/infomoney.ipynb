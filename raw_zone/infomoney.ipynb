{
 "cells": [
  {
   "cell_type": "code",
   "execution_count": null,
   "metadata": {},
   "outputs": [],
   "source": [
    "'''\n",
    "    Tratamento e repartição dos dados extraídos do site InfoMoney\n",
    "'''"
   ]
  },
  {
   "cell_type": "code",
   "execution_count": 1,
   "metadata": {},
   "outputs": [],
   "source": [
    "import pandas as pd\n",
    "import os"
   ]
  },
  {
   "cell_type": "code",
   "execution_count": 2,
   "metadata": {},
   "outputs": [],
   "source": [
    "def list_files_in_folder(folder_path):\n",
    "    files_list = list()\n",
    "\n",
    "    for root, dirs, files in os.walk(folder_path):\n",
    "        for file in files:\n",
    "            file_path = os.path.join(root, file)\n",
    "            files_list.append(file_path)\n",
    "    \n",
    "    return files_list\n",
    "\n",
    "folder_path = \"C:/Users/Pedro/Documents/pantanal_dev/pantanal.dev/ingestion/datasets/infomoney_bruto\"\n",
    "files_list = list_files_in_folder(folder_path)"
   ]
  },
  {
   "cell_type": "code",
   "execution_count": 3,
   "metadata": {},
   "outputs": [],
   "source": [
    "for indice, dataset in enumerate(files_list):\n",
    "    df = pd.read_excel(dataset)\n",
    "\n",
    "    selected_columns = [\n",
    "        'titulo', \n",
    "        'data_publicacao', \n",
    "        'assunto', \n",
    "        'link_noticia', \n",
    "        'data_noticia'\n",
    "        ]\n",
    "    df = df[selected_columns]\n",
    "\n",
    "    if indice == 0:\n",
    "        df_concat = df\n",
    "    else:\n",
    "        df_concat = pd.concat([df_concat, df])\n",
    "\n",
    "df = df_concat\\\n",
    "    .drop_duplicates()\\\n",
    "    .dropna(subset=['data_noticia'])"
   ]
  },
  {
   "cell_type": "code",
   "execution_count": null,
   "metadata": {},
   "outputs": [],
   "source": [
    "df[\"data_noticia\"].dropna().sort_values()"
   ]
  },
  {
   "cell_type": "code",
   "execution_count": 34,
   "metadata": {},
   "outputs": [],
   "source": [
    "for ano in range(2007, 2023):\n",
    "    selected_values = df[df['data_noticia'].str.startswith(str(ano))]\n",
    "    selected_values.to_excel(\"datasets/infomoney/{}.xlsx\".format(ano))"
   ]
  },
  {
   "cell_type": "code",
   "execution_count": null,
   "metadata": {},
   "outputs": [],
   "source": []
  }
 ],
 "metadata": {
  "kernelspec": {
   "display_name": "Python 3",
   "language": "python",
   "name": "python3"
  },
  "language_info": {
   "codemirror_mode": {
    "name": "ipython",
    "version": 3
   },
   "file_extension": ".py",
   "mimetype": "text/x-python",
   "name": "python",
   "nbconvert_exporter": "python",
   "pygments_lexer": "ipython3",
   "version": "3.10.5"
  },
  "orig_nbformat": 4
 },
 "nbformat": 4,
 "nbformat_minor": 2
}
