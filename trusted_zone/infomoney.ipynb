{
 "cells": [
  {
   "cell_type": "code",
   "execution_count": null,
   "metadata": {},
   "outputs": [],
   "source": [
    "'''\n",
    "Algoritmo de separação treino-validacao-teste/classificacao dos dados obtidos do infomoney\n",
    "'''"
   ]
  },
  {
   "cell_type": "code",
   "execution_count": 5,
   "metadata": {},
   "outputs": [],
   "source": [
    "import pandas as pd\n",
    "import numpy as np\n",
    "import os"
   ]
  },
  {
   "cell_type": "code",
   "execution_count": 2,
   "metadata": {},
   "outputs": [],
   "source": [
    "def list_files_in_folder(folder_path):\n",
    "    files_list = list()\n",
    "\n",
    "    for root, dirs, files in os.walk(folder_path):\n",
    "        for file in files:\n",
    "            file_path = os.path.join(root, file)\n",
    "            files_list.append(file_path)\n",
    "    \n",
    "    return files_list\n",
    "\n",
    "folder_path = \"C:/Users/Pedro/Documents/pantanal_dev/pantanal.dev/raw_zone/datasets/infomoney\"\n",
    "files_list = list_files_in_folder(folder_path)"
   ]
  },
  {
   "cell_type": "code",
   "execution_count": 6,
   "metadata": {},
   "outputs": [],
   "source": [
    "for indice, dataset in enumerate(files_list):\n",
    "    df = pd.read_excel(dataset)\n",
    "    total_rows = len(df)\n",
    "    rows_class_a = 300\n",
    "\n",
    "    np.random.seed(42)\n",
    "    df['label'] = 'PREDICAO'\n",
    "\n",
    "    random_indices = np.random.choice(total_rows, rows_class_a, replace=False)\n",
    "\n",
    "    df.loc[random_indices, 'label'] = 'CLASSIFICAR'\n",
    "\n",
    "    if indice == 0:\n",
    "        df_concat = df[df[\"label\"] == \"CLASSIFICAR\"]\n",
    "    else:\n",
    "        df_concat = pd.concat([df_concat, df[df[\"label\"] == \"CLASSIFICAR\"]])"
   ]
  },
  {
   "cell_type": "code",
   "execution_count": 7,
   "metadata": {},
   "outputs": [],
   "source": [
    "df = df_concat"
   ]
  },
  {
   "cell_type": "code",
   "execution_count": 9,
   "metadata": {},
   "outputs": [],
   "source": [
    "df.to_excel(\"datasets/infomoney_classificar.xlsx\")"
   ]
  }
 ],
 "metadata": {
  "kernelspec": {
   "display_name": "Python 3",
   "language": "python",
   "name": "python3"
  },
  "language_info": {
   "codemirror_mode": {
    "name": "ipython",
    "version": 3
   },
   "file_extension": ".py",
   "mimetype": "text/x-python",
   "name": "python",
   "nbconvert_exporter": "python",
   "pygments_lexer": "ipython3",
   "version": "3.10.5"
  },
  "orig_nbformat": 4
 },
 "nbformat": 4,
 "nbformat_minor": 2
}
