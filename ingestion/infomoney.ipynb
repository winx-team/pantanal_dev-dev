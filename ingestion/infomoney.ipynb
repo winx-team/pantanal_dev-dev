{
 "cells": [
  {
   "cell_type": "code",
   "execution_count": null,
   "metadata": {},
   "outputs": [],
   "source": [
    "'''\n",
    "    Extração de dados via raspagem Web do site Infomoney\n",
    "'''"
   ]
  },
  {
   "cell_type": "code",
   "execution_count": 1,
   "metadata": {},
   "outputs": [],
   "source": [
    "import requests\n",
    "from bs4 import BeautifulSoup\n",
    "import pandas as pd\n",
    "import json\n",
    "import time"
   ]
  },
  {
   "cell_type": "code",
   "execution_count": 2,
   "metadata": {},
   "outputs": [],
   "source": [
    "lista_noticias = list()\n",
    "indice = 0\n",
    "condicao = True"
   ]
  },
  {
   "cell_type": "code",
   "execution_count": null,
   "metadata": {},
   "outputs": [],
   "source": [
    "while condicao: \n",
    "    indice = indice + 1\n",
    "    url = \"https://www.infomoney.com.br/?infinity=scrolling\"\n",
    "    payload = \"action=infinite_scroll&page={}&currentday=27.04.23&order=DESC&scripts[0]=jquery&scripts[1]=jquery-core&scripts[2]=jquery-migrate&scripts[3]=tiled-gallery&scripts[4]=infomoney-script&scripts[5]=infomoney-lazy-loading&scripts[6]=infomoney-googletagservices-async&scripts[7]=infomoney-prebid-async&scripts[8]=infomoney-ads-config&scripts[9]=the-neverending-homepage&scripts[10]=jetpack-photon&scripts[11]=infomoney_js_main&scripts[12]=live-news-plugin-instagram&scripts[13]=livenews_js_main&scripts[14]=livenews_js_mustache&scripts[15]=livenews_js_moment&scripts[16]=live-news-plugin-signalr&scripts[17]=live-news-plugin-jquery-signalr&scripts[18]=live-news-plugin-infra-socket-signalr&scripts[19]=live-news-plugin-infra-ajax&scripts[20]=live-news-plugin-service-materia&scripts[21]=live-news-plugin-live&scripts[22]=jetpack-carousel&scripts[23]=infomoney_sw_register_script&scripts[24]=jetpack-lazy-images-polyfill-intersectionobserver&scripts[25]=jetpack-lazy-images&scripts[26]=infomoney-bootstrap-script&scripts[27]=infomoney-email-hasg&scripts[28]=infomoney-lazy-loading-menu&styles[0]=infomoney-call-to-action&styles[1]=the-neverending-homepage&styles[2]=videopress-video-style&styles[3]=mediaelement&styles[4]=wp-mediaelement&styles[5]=elasticpress-related-posts-block&styles[6]=classic-theme-styles&styles[7]=global-styles&styles[8]=livenews_css_main&styles[9]=jetpack-carousel-swiper-css&styles[10]=jetpack-carousel&styles[11]=tiled-gallery&styles[12]=infomoney-bootstrap-preload&styles[13]=infomoney-bootstrap&styles[14]=infomoney-style-preload&styles[15]=infomoney-style&styles[16]=infomoney-fonts-material-icons-preload&styles[17]=infomoney-fonts-material-icons&styles[18]=infomoney-script-prescriptload&styles[19]=infomoney-widget-advertising-preload&styles[20]=infomoney-widget-advertising&styles[21]=infomoney-widget-ticker&query_args[page]=0&query_args[pagename]=ultimas-noticias&query_args[error]=&query_args[m]=&query_args[p]=0&query_args[post_parent]=&query_args[subpost]=&query_args[subpost_id]=&query_args[attachment]=&query_args[attachment_id]=0&query_args[name]=&query_args[page_id]=0&query_args[second]=&query_args[minute]=&query_args[hour]=&query_args[day]=0&query_args[monthnum]=0&query_args[year]=0&query_args[w]=0&query_args[category_name]=&query_args[tag]=&query_args[cat]=&query_args[tag_id]=&query_args[author]=&query_args[author_name]=&query_args[feed]=&query_args[tb]=&query_args[paged]=0&query_args[meta_key]=&query_args[meta_value]=&query_args[preview]=&query_args[s]=&query_args[sentence]=&query_args[title]=&query_args[fields]=&query_args[menu_order]=&query_args[embed]=&query_args[category__in][]=&query_args[category__not_in][]=&query_args[category__and][]=&query_args[post__in][]=&query_args[post__not_in][]=&query_args[post_name__in][]=&query_args[tag__in][]=&query_args[tag__not_in][]=&query_args[tag__and][]=&query_args[tag_slug__in][]=&query_args[tag_slug__and][]=&query_args[post_parent__in][]=&query_args[post_parent__not_in][]=&query_args[author__in][]=&query_args[author__not_in][]=&query_args[search_columns][]=&query_args[posts_per_page]=100&query_args[post_type][0]=guide&query_args[post_type][1]=post&query_args[post_type][2]=page&query_args[post_type][3]=colunistas&query_args[post_type][4]=patrocinados&query_args[post_type][5]=especiais&query_args[post_type][6]=web-story&query_args[tax_query][0][taxonomy]=marca&query_args[tax_query][0][terms][0]=4043&query_args[tax_query][0][terms][1]=4041&query_args[tax_query][0][operator]=NOT%20IN&query_args[ignore_sticky_posts]=false&query_args[suppress_filters]=false&query_args[cache_results]=true&query_args[update_post_term_cache]=true&query_args[update_menu_item_cache]=false&query_args[lazy_load_term_meta]=true&query_args[update_post_meta_cache]=true&query_args[nopaging]=false&query_args[comments_per_page]=50&query_args[no_found_rows]=false&query_args[order]=DESC&query_before=2023-04-28%2015%3A05%3A58&last_post_date=2023-04-28%2013%3A50%3A41\".format(indice)\n",
    "    headers = {\n",
    "        'authority': 'www.infomoney.com.br',\n",
    "        'accept': '*/*',\n",
    "        'accept-language': 'pt-BR,pt;q=0.9,en-US;q=0.8,en;q=0.7',\n",
    "        'content-type': 'application/x-www-form-urlencoded; charset=UTF-8',\n",
    "        'cookie': '__gads=ID=6a250d68a36287d1:T=1680395416:S=ALNI_MZ1D4x-Yq2NGWF86sUjXsHcyrjFuA; trc_cookie_storage=taboola%2520global%253Auser-id%3D41e878de-2a84-4370-83ab-c9aa306d2062-tuct89acec7; _fbp=fb.2.1680395444532.559091561; tt.u=0100007F5CE69463BB06E6240227B323; __qca=P0-839354872-1680395445459; __gsas=ID=975d35b195e4027e:T=1680395455:S=ALNI_MYSH-8ynDFe6reqtrBZKIIU2Ntc3Q; truvid_protected={\"val\":\"c\",\"level\":1,\"geo\":\"BR\",\"timestamp\":1681308248}; _gaexp=GAX1.3.n7JItSb5RjmUqmyTk_ds9w.19532.1^!t_GeQfAXQDarsvt4LdWWBA.19532.0; clever-last-tracker-48726=1; _gasessionid=20230428078946541682705247338; __gpi=UID=00000a3b204f5f04:T=1680395416:RT=1682705237:S=ALNI_MbOU9hAOofHX7426EFdvJS1jqdfQg; _clck=29mcua|1|fb5|0; nvg22862=fc529e6965fe8e2d48ec9308f09|0_119; AMP_TOKEN=%24NOT_FOUND; _gid=GA1.3.387661686.1682705248; _gat_UA-2297695-11=1; tt_c_vmt=1682705254; tt_c_c=direct; tt_c_s=direct; tt_c_m=direct; tt.nprf=; _clsk=cj0gpg|1682705255410|3|0|v.clarity.ms/collect; _ttuu.s=1682705255609; _ga=GA1.3.187450828.1680395428; _ga_X51TXRL9Z2=GS1.1.1682705247.7.1.1682705258.49.0.0',\n",
    "        'origin': 'https://www.infomoney.com.br',\n",
    "        'referer': 'https://www.infomoney.com.br/ultimas-noticias/',\n",
    "        'sec-ch-ua': '\"Chromium\";v=\"112\", \"Google Chrome\";v=\"112\", \"Not:A-Brand\";v=\"99\"',\n",
    "        'sec-ch-ua-mobile': '?0',\n",
    "        'sec-ch-ua-platform': '\"Windows\"',\n",
    "        'sec-fetch-dest': 'empty',\n",
    "        'sec-fetch-mode': 'cors',\n",
    "        'sec-fetch-site': 'same-origin',\n",
    "        'user-agent': 'Mozilla/5.0 (Windows NT 10.0; Win64; x64) AppleWebKit/537.36 (KHTML, like Gecko) Chrome/112.0.0.0 Safari/537.36',\n",
    "        'x-requested-with': 'XMLHttpRequest'\n",
    "        }\n",
    "\n",
    "    response = requests.request(\"POST\", url, headers=headers, data=payload)\n",
    "    json_str = json.loads(response.text)\n",
    "    page = BeautifulSoup(json_str[\"html\"], 'lxml')\n",
    "\n",
    "    noticias = page.findAll(\"div\", class_=\"row py-3 item\")\n",
    "    \n",
    "    if len(noticias) > 0:\n",
    "        for noticia in noticias:\n",
    "            titulo = noticia.find(\"span\", class_=\"hl-title hl-title-2\").text\n",
    "            data_publicacao = noticia.find(\"span\", class_=\"posted-diff\").text\n",
    "            assunto = noticia.find(\"span\", class_=\"hl-hat\").text\n",
    "            \n",
    "            try:\n",
    "                link_noticia = noticia.find(\"div\", class_=\"col-12 col-lg-4 img-container\").find(\"a\").get('href')\n",
    "\n",
    "            except Exception as e:\n",
    "                link_noticia = noticia.find(\"span\", class_=\"hl-title hl-title-2\").find(\"a\").get('href')\n",
    "            \n",
    "            response_notice = requests.request(\"GET\", link_noticia)\n",
    "            page_notice = BeautifulSoup(response_notice.text, 'lxml')\n",
    "\n",
    "            try:\n",
    "                data = page_notice.find(\"time\").get(\"datetime\")\n",
    "            except Exception as e:\n",
    "                data = None\n",
    "\n",
    "            lista_noticias.append({\n",
    "                \"titulo\": titulo, \n",
    "                \"data_publicacao\": data_publicacao, \n",
    "                \"assunto\": assunto, \n",
    "                \"link_noticia\": link_noticia,\n",
    "                \"data_noticia\": data,\n",
    "                })\n",
    "\n",
    "            time.sleep(1)\n",
    "        \n",
    "        if indice % 500 == 0:\n",
    "            pd\\\n",
    "                .DataFrame(lista_noticias)\\\n",
    "                .to_excel(\"/content/drive/MyDrive/Pantanal Dev/Datasets/infomoney/dataset_{}.xlsx\".format(indice))\n",
    "\n",
    "        time.sleep(3)\n",
    "    else:\n",
    "        condicao = False"
   ]
  },
  {
   "cell_type": "code",
   "execution_count": null,
   "metadata": {},
   "outputs": [],
   "source": [
    "pd\\\n",
    "    .DataFrame(lista_noticias)\\\n",
    "    .to_excel(\"/content/drive/MyDrive/Pantanal Dev/Datasets/infomoney/dataset_{}.xlsx\".format(indice))"
   ]
  }
 ],
 "metadata": {
  "kernelspec": {
   "display_name": "Python 3",
   "language": "python",
   "name": "python3"
  },
  "language_info": {
   "codemirror_mode": {
    "name": "ipython",
    "version": 3
   },
   "file_extension": ".py",
   "mimetype": "text/x-python",
   "name": "python",
   "nbconvert_exporter": "python",
   "pygments_lexer": "ipython3",
   "version": "3.10.5"
  },
  "orig_nbformat": 4
 },
 "nbformat": 4,
 "nbformat_minor": 2
}
