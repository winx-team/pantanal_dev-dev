{
 "cells": [
  {
   "cell_type": "code",
   "execution_count": null,
   "metadata": {},
   "outputs": [],
   "source": [
    "'''\n",
    "    Extração de dados via raspagem Web do site YahooFinance\n",
    "'''"
   ]
  },
  {
   "cell_type": "code",
   "execution_count": 77,
   "metadata": {},
   "outputs": [],
   "source": [
    "import requests\n",
    "import json\n",
    "import pandas as pd\n",
    "import datetime"
   ]
  },
  {
   "cell_type": "code",
   "execution_count": 84,
   "metadata": {},
   "outputs": [],
   "source": [
    "acoes = [\n",
    "    \"LSEG.L\", \n",
    "    \"^GSPTSE\", \n",
    "    \"B3SA3.SA\", \n",
    "    \"ASX.AX\", \n",
    "    \"JSEJF\"\n",
    "    ]\n",
    "lista_cotacoes = list()"
   ]
  },
  {
   "cell_type": "code",
   "execution_count": 85,
   "metadata": {},
   "outputs": [],
   "source": [
    "for acao in acoes:\n",
    "    url = \"https://query1.finance.yahoo.com/v8/finance/chart/{}?interval=1d&useYfid=true&range=10y\".format(acao)\n",
    "    payload = {}\n",
    "    \n",
    "    headers = {\n",
    "        'authority': 'query1.finance.yahoo.com',\n",
    "        'accept': '*/*',\n",
    "        'accept-language': 'pt-BR,pt;q=0.9,en-US;q=0.8,en;q=0.7',\n",
    "        'origin': 'https://finance.yahoo.com',\n",
    "        'referer': 'https://finance.yahoo.com/quote/LSEG.L?p=LSEG.L&.tsrc=fin-srch',\n",
    "        'sec-ch-ua': '\"Google Chrome\";v=\"113\", \"Chromium\";v=\"113\", \"Not-A.Brand\";v=\"24\"',\n",
    "        'sec-ch-ua-mobile': '?0',\n",
    "        'sec-ch-ua-platform': '\"Windows\"',\n",
    "        'sec-fetch-dest': 'empty',\n",
    "        'sec-fetch-mode': 'cors',\n",
    "        'sec-fetch-site': 'same-site',\n",
    "        'user-agent': 'Mozilla/5.0 (Windows NT 10.0; Win64; x64) AppleWebKit/537.36 (KHTML, like Gecko) Chrome/113.0.0.0 Safari/537.36'\n",
    "        }\n",
    "\n",
    "    response = requests.request(\"GET\", url, headers=headers, data=payload)\n",
    "    json_resposta = json.loads(response.text)\n",
    "\n",
    "    cotacoes = json_resposta['chart']['result'][0]['indicators']['quote'][0]\n",
    "\n",
    "    datas = list(json_resposta['chart']['result'][0]['timestamp'])\n",
    "    fechamentos = list(cotacoes['close'])\n",
    "    maximo = list(cotacoes['high'])\n",
    "    minimo = list(cotacoes['low'])\n",
    "\n",
    "    for indice in range(0, len(datas)):\n",
    "        lista_cotacoes.append({\n",
    "            \"data\": datetime.datetime.fromtimestamp(datas[indice]),\n",
    "            \"cotacao_fechamento\": fechamentos[indice],\n",
    "            \"cotacao_maximo\": maximo[indice],\n",
    "            \"cotacao_minimo\": minimo[indice],\n",
    "            \"acao\": acao,\n",
    "            \"origem\": \"yahoo_finance\",\n",
    "            })    \n",
    "\n",
    "df = pd.DataFrame(lista_cotacoes)"
   ]
  },
  {
   "cell_type": "code",
   "execution_count": 89,
   "metadata": {},
   "outputs": [],
   "source": [
    "df.to_excel(\"yahoofinance/ativos_cotados.xlsx\")"
   ]
  },
  {
   "cell_type": "code",
   "execution_count": null,
   "metadata": {},
   "outputs": [],
   "source": []
  }
 ],
 "metadata": {
  "kernelspec": {
   "display_name": "Python 3",
   "language": "python",
   "name": "python3"
  },
  "language_info": {
   "codemirror_mode": {
    "name": "ipython",
    "version": 3
   },
   "file_extension": ".py",
   "mimetype": "text/x-python",
   "name": "python",
   "nbconvert_exporter": "python",
   "pygments_lexer": "ipython3",
   "version": "3.10.5"
  },
  "orig_nbformat": 4
 },
 "nbformat": 4,
 "nbformat_minor": 2
}
