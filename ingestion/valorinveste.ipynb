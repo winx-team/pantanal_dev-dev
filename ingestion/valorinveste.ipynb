{
 "cells": [
  {
   "cell_type": "code",
   "execution_count": null,
   "metadata": {},
   "outputs": [],
   "source": [
    "'''\n",
    "    Extração de dados via raspagem Web do site ValorInveste\n",
    "'''"
   ]
  },
  {
   "cell_type": "code",
   "execution_count": null,
   "metadata": {},
   "outputs": [],
   "source": [
    "import requests\n",
    "import json\n",
    "import pandas as pd\n",
    "import time\n",
    "import hashlib"
   ]
  },
  {
   "cell_type": "code",
   "execution_count": null,
   "metadata": {},
   "outputs": [],
   "source": [
    "indice = 0\n",
    "lista_resultado = list()\n",
    "ingestao = True"
   ]
  },
  {
   "cell_type": "code",
   "execution_count": null,
   "metadata": {},
   "outputs": [],
   "source": [
    "try:\n",
    "    while ingestao:\n",
    "        indice = indice + 1\n",
    "        url = \"https://falkor-cda.bastian.globo.com/tenants/valor-investe/instances/4c191ab7-c9a3-49df-872d-209f09534f76/posts/page/{}\".format(indice)\n",
    "\n",
    "        payload = {}\n",
    "        headers = {\n",
    "            'authority': 'falkor-cda.bastian.globo.com',\n",
    "            'accept': '*/*',\n",
    "            'accept-language': 'pt-BR,pt;q=0.9,en-US;q=0.8,en;q=0.7',\n",
    "            'origin': 'https://valorinveste.globo.com',\n",
    "            'referer': 'https://valorinveste.globo.com/',\n",
    "            'sec-ch-ua': '\"Chromium\";v=\"112\", \"Google Chrome\";v=\"112\", \"Not:A-Brand\";v=\"99\"',\n",
    "            'sec-ch-ua-mobile': '?0',\n",
    "            'sec-ch-ua-platform': '\"Windows\"',\n",
    "            'sec-fetch-dest': 'empty',\n",
    "            'sec-fetch-mode': 'cors',\n",
    "            'sec-fetch-site': 'same-site',\n",
    "            'user-agent': 'Mozilla/5.0 (Windows NT 10.0; Win64; x64) AppleWebKit/537.36 (KHTML, like Gecko) Chrome/112.0.0.0 Safari/537.36',\n",
    "            'vary': 'X-Mobile-Group',\n",
    "            'x-mobile-group': 'desktop'\n",
    "            }\n",
    "\n",
    "        response = requests.request(\"GET\", url, headers=headers, data=payload)\n",
    "        json_str = json.loads(response.text)\n",
    "        \n",
    "        if len(json_str[\"items\"]) > 0:\n",
    "            for item in json_str[\"items\"]:\n",
    "                tipo_texto = item[\"type\"]\n",
    "                data_publicacao = item[\"publication\"]\n",
    "                titulo = item[\"content\"][\"title\"]\n",
    "                sumario = item[\"content\"][\"summary\"]\n",
    "\n",
    "                lista_resultado.append({\n",
    "                    \"tipo_texto\": tipo_texto,\n",
    "                    \"data_publicacao\": data_publicacao,\n",
    "                    \"titulo\": titulo,\n",
    "                    \"sumario\": sumario,\n",
    "                    })\n",
    "        \n",
    "        if len(json_str[\"items\"]) <= 0:\n",
    "            ingestao = False\n",
    "        \n",
    "        else:\n",
    "            time.sleep(10)\n",
    "\n",
    "        if indice % 10 == 0:\n",
    "            pd\\\n",
    "            .DataFrame(lista_resultado)\\\n",
    "            .to_excel(\"/content/drive/MyDrive/Pantanal Dev/Datasets/valorglobo/dataset_{}.xlsx\".format(indice))\n",
    "            \n",
    "except Exception as e:\n",
    "    print(e)"
   ]
  },
  {
   "cell_type": "code",
   "execution_count": null,
   "metadata": {},
   "outputs": [],
   "source": [
    "pd\\\n",
    "    .DataFrame(lista_resultado)\\\n",
    "    .to_excel(\"/content/drive/MyDrive/Pantanal Dev/Datasets/valorglobo/dataset_{}.xlsx\".format(indice))"
   ]
  }
 ],
 "metadata": {
  "language_info": {
   "name": "python"
  },
  "orig_nbformat": 4
 },
 "nbformat": 4,
 "nbformat_minor": 2
}
